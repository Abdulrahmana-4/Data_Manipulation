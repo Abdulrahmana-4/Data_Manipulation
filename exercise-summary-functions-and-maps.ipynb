{
 "cells": [
  {
   "cell_type": "markdown",
   "id": "f5cc7fe2",
   "metadata": {
    "papermill": {
     "duration": 0.00588,
     "end_time": "2023-06-28T13:08:53.501609",
     "exception": false,
     "start_time": "2023-06-28T13:08:53.495729",
     "status": "completed"
    },
    "tags": []
   },
   "source": [
    "**This notebook is an exercise in the [Pandas](https://www.kaggle.com/learn/pandas) course.  You can reference the tutorial at [this link](https://www.kaggle.com/residentmario/summary-functions-and-maps).**\n",
    "\n",
    "---\n"
   ]
  },
  {
   "cell_type": "markdown",
   "id": "282029b4",
   "metadata": {
    "papermill": {
     "duration": 0.005065,
     "end_time": "2023-06-28T13:08:53.512131",
     "exception": false,
     "start_time": "2023-06-28T13:08:53.507066",
     "status": "completed"
    },
    "tags": []
   },
   "source": [
    "# Introduction\n",
    "\n",
    "Now you are ready to get a deeper understanding of your data.\n",
    "\n",
    "Run the following cell to load your data and some utility functions (including code to check your answers)."
   ]
  },
  {
   "cell_type": "code",
   "execution_count": 1,
   "id": "0e7cdb65",
   "metadata": {
    "execution": {
     "iopub.execute_input": "2023-06-28T13:08:53.524755Z",
     "iopub.status.busy": "2023-06-28T13:08:53.524235Z",
     "iopub.status.idle": "2023-06-28T13:08:59.961177Z",
     "shell.execute_reply": "2023-06-28T13:08:59.959840Z"
    },
    "papermill": {
     "duration": 6.446063,
     "end_time": "2023-06-28T13:08:59.963428",
     "exception": false,
     "start_time": "2023-06-28T13:08:53.517365",
     "status": "completed"
    },
    "tags": []
   },
   "outputs": [
    {
     "name": "stdout",
     "output_type": "stream",
     "text": [
      "Setup complete.\n"
     ]
    },
    {
     "data": {
      "text/html": [
       "<div>\n",
       "<style scoped>\n",
       "    .dataframe tbody tr th:only-of-type {\n",
       "        vertical-align: middle;\n",
       "    }\n",
       "\n",
       "    .dataframe tbody tr th {\n",
       "        vertical-align: top;\n",
       "    }\n",
       "\n",
       "    .dataframe thead th {\n",
       "        text-align: right;\n",
       "    }\n",
       "</style>\n",
       "<table border=\"1\" class=\"dataframe\">\n",
       "  <thead>\n",
       "    <tr style=\"text-align: right;\">\n",
       "      <th></th>\n",
       "      <th>country</th>\n",
       "      <th>description</th>\n",
       "      <th>designation</th>\n",
       "      <th>points</th>\n",
       "      <th>price</th>\n",
       "      <th>province</th>\n",
       "      <th>region_1</th>\n",
       "      <th>region_2</th>\n",
       "      <th>taster_name</th>\n",
       "      <th>taster_twitter_handle</th>\n",
       "      <th>title</th>\n",
       "      <th>variety</th>\n",
       "      <th>winery</th>\n",
       "    </tr>\n",
       "  </thead>\n",
       "  <tbody>\n",
       "    <tr>\n",
       "      <th>0</th>\n",
       "      <td>Italy</td>\n",
       "      <td>Aromas include tropical fruit, broom, brimston...</td>\n",
       "      <td>Vulkà Bianco</td>\n",
       "      <td>87</td>\n",
       "      <td>NaN</td>\n",
       "      <td>Sicily &amp; Sardinia</td>\n",
       "      <td>Etna</td>\n",
       "      <td>NaN</td>\n",
       "      <td>Kerin O’Keefe</td>\n",
       "      <td>@kerinokeefe</td>\n",
       "      <td>Nicosia 2013 Vulkà Bianco  (Etna)</td>\n",
       "      <td>White Blend</td>\n",
       "      <td>Nicosia</td>\n",
       "    </tr>\n",
       "    <tr>\n",
       "      <th>1</th>\n",
       "      <td>Portugal</td>\n",
       "      <td>This is ripe and fruity, a wine that is smooth...</td>\n",
       "      <td>Avidagos</td>\n",
       "      <td>87</td>\n",
       "      <td>15.0</td>\n",
       "      <td>Douro</td>\n",
       "      <td>NaN</td>\n",
       "      <td>NaN</td>\n",
       "      <td>Roger Voss</td>\n",
       "      <td>@vossroger</td>\n",
       "      <td>Quinta dos Avidagos 2011 Avidagos Red (Douro)</td>\n",
       "      <td>Portuguese Red</td>\n",
       "      <td>Quinta dos Avidagos</td>\n",
       "    </tr>\n",
       "    <tr>\n",
       "      <th>2</th>\n",
       "      <td>US</td>\n",
       "      <td>Tart and snappy, the flavors of lime flesh and...</td>\n",
       "      <td>NaN</td>\n",
       "      <td>87</td>\n",
       "      <td>14.0</td>\n",
       "      <td>Oregon</td>\n",
       "      <td>Willamette Valley</td>\n",
       "      <td>Willamette Valley</td>\n",
       "      <td>Paul Gregutt</td>\n",
       "      <td>@paulgwine</td>\n",
       "      <td>Rainstorm 2013 Pinot Gris (Willamette Valley)</td>\n",
       "      <td>Pinot Gris</td>\n",
       "      <td>Rainstorm</td>\n",
       "    </tr>\n",
       "    <tr>\n",
       "      <th>3</th>\n",
       "      <td>US</td>\n",
       "      <td>Pineapple rind, lemon pith and orange blossom ...</td>\n",
       "      <td>Reserve Late Harvest</td>\n",
       "      <td>87</td>\n",
       "      <td>13.0</td>\n",
       "      <td>Michigan</td>\n",
       "      <td>Lake Michigan Shore</td>\n",
       "      <td>NaN</td>\n",
       "      <td>Alexander Peartree</td>\n",
       "      <td>NaN</td>\n",
       "      <td>St. Julian 2013 Reserve Late Harvest Riesling ...</td>\n",
       "      <td>Riesling</td>\n",
       "      <td>St. Julian</td>\n",
       "    </tr>\n",
       "    <tr>\n",
       "      <th>4</th>\n",
       "      <td>US</td>\n",
       "      <td>Much like the regular bottling from 2012, this...</td>\n",
       "      <td>Vintner's Reserve Wild Child Block</td>\n",
       "      <td>87</td>\n",
       "      <td>65.0</td>\n",
       "      <td>Oregon</td>\n",
       "      <td>Willamette Valley</td>\n",
       "      <td>Willamette Valley</td>\n",
       "      <td>Paul Gregutt</td>\n",
       "      <td>@paulgwine</td>\n",
       "      <td>Sweet Cheeks 2012 Vintner's Reserve Wild Child...</td>\n",
       "      <td>Pinot Noir</td>\n",
       "      <td>Sweet Cheeks</td>\n",
       "    </tr>\n",
       "  </tbody>\n",
       "</table>\n",
       "</div>"
      ],
      "text/plain": [
       "    country                                        description  \\\n",
       "0     Italy  Aromas include tropical fruit, broom, brimston...   \n",
       "1  Portugal  This is ripe and fruity, a wine that is smooth...   \n",
       "2        US  Tart and snappy, the flavors of lime flesh and...   \n",
       "3        US  Pineapple rind, lemon pith and orange blossom ...   \n",
       "4        US  Much like the regular bottling from 2012, this...   \n",
       "\n",
       "                          designation  points  price           province  \\\n",
       "0                        Vulkà Bianco      87    NaN  Sicily & Sardinia   \n",
       "1                            Avidagos      87   15.0              Douro   \n",
       "2                                 NaN      87   14.0             Oregon   \n",
       "3                Reserve Late Harvest      87   13.0           Michigan   \n",
       "4  Vintner's Reserve Wild Child Block      87   65.0             Oregon   \n",
       "\n",
       "              region_1           region_2         taster_name  \\\n",
       "0                 Etna                NaN       Kerin O’Keefe   \n",
       "1                  NaN                NaN          Roger Voss   \n",
       "2    Willamette Valley  Willamette Valley        Paul Gregutt   \n",
       "3  Lake Michigan Shore                NaN  Alexander Peartree   \n",
       "4    Willamette Valley  Willamette Valley        Paul Gregutt   \n",
       "\n",
       "  taster_twitter_handle                                              title  \\\n",
       "0          @kerinokeefe                  Nicosia 2013 Vulkà Bianco  (Etna)   \n",
       "1            @vossroger      Quinta dos Avidagos 2011 Avidagos Red (Douro)   \n",
       "2           @paulgwine       Rainstorm 2013 Pinot Gris (Willamette Valley)   \n",
       "3                   NaN  St. Julian 2013 Reserve Late Harvest Riesling ...   \n",
       "4           @paulgwine   Sweet Cheeks 2012 Vintner's Reserve Wild Child...   \n",
       "\n",
       "          variety               winery  \n",
       "0     White Blend              Nicosia  \n",
       "1  Portuguese Red  Quinta dos Avidagos  \n",
       "2      Pinot Gris            Rainstorm  \n",
       "3        Riesling           St. Julian  \n",
       "4      Pinot Noir         Sweet Cheeks  "
      ]
     },
     "execution_count": 1,
     "metadata": {},
     "output_type": "execute_result"
    }
   ],
   "source": [
    "import pandas as pd\n",
    "pd.set_option(\"display.max_rows\", 5)\n",
    "reviews = pd.read_csv(\"../input/wine-reviews/winemag-data-130k-v2.csv\", index_col=0)\n",
    "\n",
    "from learntools.core import binder; binder.bind(globals())\n",
    "from learntools.pandas.summary_functions_and_maps import *\n",
    "print(\"Setup complete.\")\n",
    "\n",
    "reviews.head()"
   ]
  },
  {
   "cell_type": "markdown",
   "id": "5d6da9f0",
   "metadata": {
    "papermill": {
     "duration": 0.005808,
     "end_time": "2023-06-28T13:08:59.975458",
     "exception": false,
     "start_time": "2023-06-28T13:08:59.969650",
     "status": "completed"
    },
    "tags": []
   },
   "source": [
    "# Exercises"
   ]
  },
  {
   "cell_type": "markdown",
   "id": "41b49e7d",
   "metadata": {
    "papermill": {
     "duration": 0.007146,
     "end_time": "2023-06-28T13:08:59.988614",
     "exception": false,
     "start_time": "2023-06-28T13:08:59.981468",
     "status": "completed"
    },
    "tags": []
   },
   "source": [
    "## 1.\n",
    "\n",
    "What is the median of the `points` column in the `reviews` DataFrame?"
   ]
  },
  {
   "cell_type": "code",
   "execution_count": 2,
   "id": "a13062ae",
   "metadata": {
    "execution": {
     "iopub.execute_input": "2023-06-28T13:09:00.001849Z",
     "iopub.status.busy": "2023-06-28T13:09:00.001474Z",
     "iopub.status.idle": "2023-06-28T13:09:00.011242Z",
     "shell.execute_reply": "2023-06-28T13:09:00.010262Z"
    },
    "papermill": {
     "duration": 0.018977,
     "end_time": "2023-06-28T13:09:00.013351",
     "exception": false,
     "start_time": "2023-06-28T13:08:59.994374",
     "status": "completed"
    },
    "tags": []
   },
   "outputs": [
    {
     "data": {
      "application/javascript": [
       "parent.postMessage({\"jupyterEvent\": \"custom.exercise_interaction\", \"data\": {\"outcomeType\": 1, \"valueTowardsCompletion\": 0.14285714285714285, \"interactionType\": 1, \"questionType\": 1, \"questionId\": \"1_MedianPoints\", \"learnToolsVersion\": \"0.3.4\", \"failureMessage\": \"\", \"exceptionClass\": \"\", \"trace\": \"\"}}, \"*\")"
      ],
      "text/plain": [
       "<IPython.core.display.Javascript object>"
      ]
     },
     "metadata": {},
     "output_type": "display_data"
    },
    {
     "data": {
      "text/markdown": [
       "<span style=\"color:#33cc33\">Correct</span>"
      ],
      "text/plain": [
       "Correct"
      ]
     },
     "metadata": {},
     "output_type": "display_data"
    }
   ],
   "source": [
    "median_points = reviews.points.median()\n",
    "\n",
    "# Check your answer\n",
    "q1.check()"
   ]
  },
  {
   "cell_type": "code",
   "execution_count": 3,
   "id": "b3f1080e",
   "metadata": {
    "execution": {
     "iopub.execute_input": "2023-06-28T13:09:00.027822Z",
     "iopub.status.busy": "2023-06-28T13:09:00.026964Z",
     "iopub.status.idle": "2023-06-28T13:09:00.030578Z",
     "shell.execute_reply": "2023-06-28T13:09:00.029884Z"
    },
    "papermill": {
     "duration": 0.012906,
     "end_time": "2023-06-28T13:09:00.032547",
     "exception": false,
     "start_time": "2023-06-28T13:09:00.019641",
     "status": "completed"
    },
    "tags": []
   },
   "outputs": [],
   "source": [
    "#q1.hint()\n",
    "#q1.solution()"
   ]
  },
  {
   "cell_type": "markdown",
   "id": "a2305015",
   "metadata": {
    "papermill": {
     "duration": 0.006026,
     "end_time": "2023-06-28T13:09:00.044843",
     "exception": false,
     "start_time": "2023-06-28T13:09:00.038817",
     "status": "completed"
    },
    "tags": []
   },
   "source": [
    "## 2. \n",
    "What countries are represented in the dataset? (Your answer should not include any duplicates.)"
   ]
  },
  {
   "cell_type": "code",
   "execution_count": 4,
   "id": "20a5fd0d",
   "metadata": {
    "execution": {
     "iopub.execute_input": "2023-06-28T13:09:00.060021Z",
     "iopub.status.busy": "2023-06-28T13:09:00.059304Z",
     "iopub.status.idle": "2023-06-28T13:09:00.073325Z",
     "shell.execute_reply": "2023-06-28T13:09:00.072513Z"
    },
    "papermill": {
     "duration": 0.024182,
     "end_time": "2023-06-28T13:09:00.075376",
     "exception": false,
     "start_time": "2023-06-28T13:09:00.051194",
     "status": "completed"
    },
    "tags": []
   },
   "outputs": [
    {
     "data": {
      "application/javascript": [
       "parent.postMessage({\"jupyterEvent\": \"custom.exercise_interaction\", \"data\": {\"outcomeType\": 1, \"valueTowardsCompletion\": 0.14285714285714285, \"interactionType\": 1, \"questionType\": 2, \"questionId\": \"2_UniqueCountries\", \"learnToolsVersion\": \"0.3.4\", \"failureMessage\": \"\", \"exceptionClass\": \"\", \"trace\": \"\"}}, \"*\")"
      ],
      "text/plain": [
       "<IPython.core.display.Javascript object>"
      ]
     },
     "metadata": {},
     "output_type": "display_data"
    },
    {
     "data": {
      "text/markdown": [
       "<span style=\"color:#33cc33\">Correct</span>"
      ],
      "text/plain": [
       "Correct"
      ]
     },
     "metadata": {},
     "output_type": "display_data"
    }
   ],
   "source": [
    "countries = reviews.country.unique()\n",
    "\n",
    "# Check your answer\n",
    "q2.check()"
   ]
  },
  {
   "cell_type": "code",
   "execution_count": 5,
   "id": "fab6f7ed",
   "metadata": {
    "execution": {
     "iopub.execute_input": "2023-06-28T13:09:00.090604Z",
     "iopub.status.busy": "2023-06-28T13:09:00.089913Z",
     "iopub.status.idle": "2023-06-28T13:09:00.093426Z",
     "shell.execute_reply": "2023-06-28T13:09:00.092707Z"
    },
    "papermill": {
     "duration": 0.013474,
     "end_time": "2023-06-28T13:09:00.095459",
     "exception": false,
     "start_time": "2023-06-28T13:09:00.081985",
     "status": "completed"
    },
    "tags": []
   },
   "outputs": [],
   "source": [
    "#q2.hint()\n",
    "#q2.solution()"
   ]
  },
  {
   "cell_type": "markdown",
   "id": "c6879a97",
   "metadata": {
    "papermill": {
     "duration": 0.006298,
     "end_time": "2023-06-28T13:09:00.108345",
     "exception": false,
     "start_time": "2023-06-28T13:09:00.102047",
     "status": "completed"
    },
    "tags": []
   },
   "source": [
    "## 3.\n",
    "How often does each country appear in the dataset? Create a Series `reviews_per_country` mapping countries to the count of reviews of wines from that country."
   ]
  },
  {
   "cell_type": "code",
   "execution_count": 6,
   "id": "12ab6adc",
   "metadata": {
    "execution": {
     "iopub.execute_input": "2023-06-28T13:09:00.124297Z",
     "iopub.status.busy": "2023-06-28T13:09:00.123522Z",
     "iopub.status.idle": "2023-06-28T13:09:00.140114Z",
     "shell.execute_reply": "2023-06-28T13:09:00.139464Z"
    },
    "papermill": {
     "duration": 0.026996,
     "end_time": "2023-06-28T13:09:00.142045",
     "exception": false,
     "start_time": "2023-06-28T13:09:00.115049",
     "status": "completed"
    },
    "tags": []
   },
   "outputs": [
    {
     "data": {
      "application/javascript": [
       "parent.postMessage({\"jupyterEvent\": \"custom.exercise_interaction\", \"data\": {\"outcomeType\": 1, \"valueTowardsCompletion\": 0.14285714285714285, \"interactionType\": 1, \"questionType\": 1, \"questionId\": \"3_ReviewsPerCountry\", \"learnToolsVersion\": \"0.3.4\", \"failureMessage\": \"\", \"exceptionClass\": \"\", \"trace\": \"\"}}, \"*\")"
      ],
      "text/plain": [
       "<IPython.core.display.Javascript object>"
      ]
     },
     "metadata": {},
     "output_type": "display_data"
    },
    {
     "data": {
      "text/markdown": [
       "<span style=\"color:#33cc33\">Correct</span>"
      ],
      "text/plain": [
       "Correct"
      ]
     },
     "metadata": {},
     "output_type": "display_data"
    }
   ],
   "source": [
    "reviews_per_country = reviews.country.value_counts()\n",
    "\n",
    "# Check your answer\n",
    "q3.check()"
   ]
  },
  {
   "cell_type": "code",
   "execution_count": 7,
   "id": "7f14db37",
   "metadata": {
    "execution": {
     "iopub.execute_input": "2023-06-28T13:09:00.156985Z",
     "iopub.status.busy": "2023-06-28T13:09:00.156614Z",
     "iopub.status.idle": "2023-06-28T13:09:00.160681Z",
     "shell.execute_reply": "2023-06-28T13:09:00.159744Z"
    },
    "papermill": {
     "duration": 0.014075,
     "end_time": "2023-06-28T13:09:00.162874",
     "exception": false,
     "start_time": "2023-06-28T13:09:00.148799",
     "status": "completed"
    },
    "tags": []
   },
   "outputs": [],
   "source": [
    "#q3.hint()\n",
    "#q3.solution()"
   ]
  },
  {
   "cell_type": "markdown",
   "id": "f84f96c4",
   "metadata": {
    "papermill": {
     "duration": 0.006492,
     "end_time": "2023-06-28T13:09:00.176214",
     "exception": false,
     "start_time": "2023-06-28T13:09:00.169722",
     "status": "completed"
    },
    "tags": []
   },
   "source": [
    "## 4.\n",
    "Create variable `centered_price` containing a version of the `price` column with the mean price subtracted.\n",
    "\n",
    "(Note: this 'centering' transformation is a common preprocessing step before applying various machine learning algorithms.) "
   ]
  },
  {
   "cell_type": "code",
   "execution_count": 8,
   "id": "bdc27245",
   "metadata": {
    "execution": {
     "iopub.execute_input": "2023-06-28T13:09:00.191722Z",
     "iopub.status.busy": "2023-06-28T13:09:00.191052Z",
     "iopub.status.idle": "2023-06-28T13:10:13.461340Z",
     "shell.execute_reply": "2023-06-28T13:10:13.460443Z"
    },
    "papermill": {
     "duration": 73.286681,
     "end_time": "2023-06-28T13:10:13.469604",
     "exception": false,
     "start_time": "2023-06-28T13:09:00.182923",
     "status": "completed"
    },
    "tags": []
   },
   "outputs": [
    {
     "data": {
      "application/javascript": [
       "parent.postMessage({\"jupyterEvent\": \"custom.exercise_interaction\", \"data\": {\"outcomeType\": 1, \"valueTowardsCompletion\": 0.14285714285714285, \"interactionType\": 1, \"questionType\": 1, \"questionId\": \"4_CenteredPrice\", \"learnToolsVersion\": \"0.3.4\", \"failureMessage\": \"\", \"exceptionClass\": \"\", \"trace\": \"\"}}, \"*\")"
      ],
      "text/plain": [
       "<IPython.core.display.Javascript object>"
      ]
     },
     "metadata": {},
     "output_type": "display_data"
    },
    {
     "data": {
      "text/markdown": [
       "<span style=\"color:#33cc33\">Correct</span>"
      ],
      "text/plain": [
       "Correct"
      ]
     },
     "metadata": {},
     "output_type": "display_data"
    }
   ],
   "source": [
    "centered_price = reviews.price.map(lambda p : p - reviews.price.mean())\n",
    "\n",
    "# Check your answer\n",
    "q4.check()"
   ]
  },
  {
   "cell_type": "code",
   "execution_count": 9,
   "id": "083cc855",
   "metadata": {
    "execution": {
     "iopub.execute_input": "2023-06-28T13:10:13.486210Z",
     "iopub.status.busy": "2023-06-28T13:10:13.485485Z",
     "iopub.status.idle": "2023-06-28T13:10:13.489649Z",
     "shell.execute_reply": "2023-06-28T13:10:13.488726Z"
    },
    "papermill": {
     "duration": 0.015031,
     "end_time": "2023-06-28T13:10:13.491706",
     "exception": false,
     "start_time": "2023-06-28T13:10:13.476675",
     "status": "completed"
    },
    "tags": []
   },
   "outputs": [],
   "source": [
    "#q4.hint()\n",
    "#q4.solution()"
   ]
  },
  {
   "cell_type": "markdown",
   "id": "486e3f78",
   "metadata": {
    "papermill": {
     "duration": 0.006851,
     "end_time": "2023-06-28T13:10:13.505938",
     "exception": false,
     "start_time": "2023-06-28T13:10:13.499087",
     "status": "completed"
    },
    "tags": []
   },
   "source": [
    "## 5.\n",
    "I'm an economical wine buyer. Which wine is the \"best bargain\"? Create a variable `bargain_wine` with the title of the wine with the highest points-to-price ratio in the dataset."
   ]
  },
  {
   "cell_type": "code",
   "execution_count": 10,
   "id": "b97d8247",
   "metadata": {
    "execution": {
     "iopub.execute_input": "2023-06-28T13:10:13.522889Z",
     "iopub.status.busy": "2023-06-28T13:10:13.522185Z",
     "iopub.status.idle": "2023-06-28T13:10:13.536179Z",
     "shell.execute_reply": "2023-06-28T13:10:13.535306Z"
    },
    "papermill": {
     "duration": 0.0248,
     "end_time": "2023-06-28T13:10:13.538133",
     "exception": false,
     "start_time": "2023-06-28T13:10:13.513333",
     "status": "completed"
    },
    "tags": []
   },
   "outputs": [
    {
     "data": {
      "application/javascript": [
       "parent.postMessage({\"jupyterEvent\": \"custom.exercise_interaction\", \"data\": {\"outcomeType\": 1, \"valueTowardsCompletion\": 0.14285714285714285, \"interactionType\": 1, \"questionType\": 2, \"questionId\": \"5_BargainWine\", \"learnToolsVersion\": \"0.3.4\", \"failureMessage\": \"\", \"exceptionClass\": \"\", \"trace\": \"\"}}, \"*\")"
      ],
      "text/plain": [
       "<IPython.core.display.Javascript object>"
      ]
     },
     "metadata": {},
     "output_type": "display_data"
    },
    {
     "data": {
      "text/markdown": [
       "<span style=\"color:#33cc33\">Correct</span>"
      ],
      "text/plain": [
       "Correct"
      ]
     },
     "metadata": {},
     "output_type": "display_data"
    }
   ],
   "source": [
    "bargain_idx = (reviews.points / reviews.price).idxmax()\n",
    "bargain_wine = reviews.loc[bargain_idx, 'title']\n",
    "\n",
    "# Check your answer\n",
    "q5.check()"
   ]
  },
  {
   "cell_type": "code",
   "execution_count": 11,
   "id": "163103f8",
   "metadata": {
    "execution": {
     "iopub.execute_input": "2023-06-28T13:10:13.554925Z",
     "iopub.status.busy": "2023-06-28T13:10:13.554216Z",
     "iopub.status.idle": "2023-06-28T13:10:13.558702Z",
     "shell.execute_reply": "2023-06-28T13:10:13.557771Z"
    },
    "papermill": {
     "duration": 0.015791,
     "end_time": "2023-06-28T13:10:13.561142",
     "exception": false,
     "start_time": "2023-06-28T13:10:13.545351",
     "status": "completed"
    },
    "tags": []
   },
   "outputs": [],
   "source": [
    "#q5.hint()\n",
    "#q5.solution()"
   ]
  },
  {
   "cell_type": "markdown",
   "id": "ad8d84e2",
   "metadata": {
    "papermill": {
     "duration": 0.007094,
     "end_time": "2023-06-28T13:10:13.575623",
     "exception": false,
     "start_time": "2023-06-28T13:10:13.568529",
     "status": "completed"
    },
    "tags": []
   },
   "source": [
    "## 6.\n",
    "There are only so many words you can use when describing a bottle of wine. Is a wine more likely to be \"tropical\" or \"fruity\"? Create a Series `descriptor_counts` counting how many times each of these two words appears in the `description` column in the dataset. (For simplicity, let's ignore the capitalized versions of these words.)"
   ]
  },
  {
   "cell_type": "code",
   "execution_count": 12,
   "id": "d63f3753",
   "metadata": {
    "execution": {
     "iopub.execute_input": "2023-06-28T13:10:13.592125Z",
     "iopub.status.busy": "2023-06-28T13:10:13.591709Z",
     "iopub.status.idle": "2023-06-28T13:10:13.738459Z",
     "shell.execute_reply": "2023-06-28T13:10:13.737473Z"
    },
    "papermill": {
     "duration": 0.158201,
     "end_time": "2023-06-28T13:10:13.741028",
     "exception": false,
     "start_time": "2023-06-28T13:10:13.582827",
     "status": "completed"
    },
    "tags": []
   },
   "outputs": [
    {
     "data": {
      "application/javascript": [
       "parent.postMessage({\"jupyterEvent\": \"custom.exercise_interaction\", \"data\": {\"outcomeType\": 1, \"valueTowardsCompletion\": 0.14285714285714285, \"interactionType\": 1, \"questionType\": 1, \"questionId\": \"6_DescriptorCounts\", \"learnToolsVersion\": \"0.3.4\", \"failureMessage\": \"\", \"exceptionClass\": \"\", \"trace\": \"\"}}, \"*\")"
      ],
      "text/plain": [
       "<IPython.core.display.Javascript object>"
      ]
     },
     "metadata": {},
     "output_type": "display_data"
    },
    {
     "data": {
      "text/markdown": [
       "<span style=\"color:#33cc33\">Correct</span>"
      ],
      "text/plain": [
       "Correct"
      ]
     },
     "metadata": {},
     "output_type": "display_data"
    }
   ],
   "source": [
    "n_trop = reviews.description.map(lambda desc: \"tropical\" in desc).sum()\n",
    "n_fruity = reviews.description.map(lambda desc: \"fruity\" in desc).sum()\n",
    "descriptor_counts = pd.Series([n_trop, n_fruity], index=['tropical', 'fruity'])\n",
    "\n",
    "# Check your answer\n",
    "q6.check()"
   ]
  },
  {
   "cell_type": "code",
   "execution_count": 13,
   "id": "c9a7c500",
   "metadata": {
    "execution": {
     "iopub.execute_input": "2023-06-28T13:10:13.758001Z",
     "iopub.status.busy": "2023-06-28T13:10:13.757580Z",
     "iopub.status.idle": "2023-06-28T13:10:13.761613Z",
     "shell.execute_reply": "2023-06-28T13:10:13.760610Z"
    },
    "papermill": {
     "duration": 0.015264,
     "end_time": "2023-06-28T13:10:13.763892",
     "exception": false,
     "start_time": "2023-06-28T13:10:13.748628",
     "status": "completed"
    },
    "tags": []
   },
   "outputs": [],
   "source": [
    "#q6.hint()\n",
    "#q6.solution()"
   ]
  },
  {
   "cell_type": "markdown",
   "id": "8f89bb6c",
   "metadata": {
    "papermill": {
     "duration": 0.007437,
     "end_time": "2023-06-28T13:10:13.778891",
     "exception": false,
     "start_time": "2023-06-28T13:10:13.771454",
     "status": "completed"
    },
    "tags": []
   },
   "source": [
    "## 7.\n",
    "We'd like to host these wine reviews on our website, but a rating system ranging from 80 to 100 points is too hard to understand - we'd like to translate them into simple star ratings. A score of 95 or higher counts as 3 stars, a score of at least 85 but less than 95 is 2 stars. Any other score is 1 star.\n",
    "\n",
    "Also, the Canadian Vintners Association bought a lot of ads on the site, so any wines from Canada should automatically get 3 stars, regardless of points.\n",
    "\n",
    "Create a series `star_ratings` with the number of stars corresponding to each review in the dataset."
   ]
  },
  {
   "cell_type": "code",
   "execution_count": 14,
   "id": "65051eb5",
   "metadata": {
    "execution": {
     "iopub.execute_input": "2023-06-28T13:10:13.795910Z",
     "iopub.status.busy": "2023-06-28T13:10:13.795462Z",
     "iopub.status.idle": "2023-06-28T13:10:17.111881Z",
     "shell.execute_reply": "2023-06-28T13:10:17.110854Z"
    },
    "papermill": {
     "duration": 3.327736,
     "end_time": "2023-06-28T13:10:17.114209",
     "exception": false,
     "start_time": "2023-06-28T13:10:13.786473",
     "status": "completed"
    },
    "tags": []
   },
   "outputs": [
    {
     "data": {
      "application/javascript": [
       "parent.postMessage({\"jupyterEvent\": \"custom.exercise_interaction\", \"data\": {\"outcomeType\": 1, \"valueTowardsCompletion\": 0.14285714285714285, \"interactionType\": 1, \"questionType\": 1, \"questionId\": \"7_StarRatings\", \"learnToolsVersion\": \"0.3.4\", \"failureMessage\": \"\", \"exceptionClass\": \"\", \"trace\": \"\"}}, \"*\")"
      ],
      "text/plain": [
       "<IPython.core.display.Javascript object>"
      ]
     },
     "metadata": {},
     "output_type": "display_data"
    },
    {
     "data": {
      "text/markdown": [
       "<span style=\"color:#33cc33\">Correct</span>"
      ],
      "text/plain": [
       "Correct"
      ]
     },
     "metadata": {},
     "output_type": "display_data"
    }
   ],
   "source": [
    "def set_stars(row):\n",
    "    if row.country == 'canada':\n",
    "        return 3\n",
    "    elif row.points >= 95:\n",
    "        return 3\n",
    "    elif row.points >= 85:\n",
    "        return 2\n",
    "    else:\n",
    "        return 1\n",
    "star_ratings = reviews.apply(set_stars, axis='columns')\n",
    "\n",
    "# Check your answer\n",
    "q7.check()"
   ]
  },
  {
   "cell_type": "code",
   "execution_count": 15,
   "id": "356ea767",
   "metadata": {
    "execution": {
     "iopub.execute_input": "2023-06-28T13:10:17.132048Z",
     "iopub.status.busy": "2023-06-28T13:10:17.131007Z",
     "iopub.status.idle": "2023-06-28T13:10:17.135805Z",
     "shell.execute_reply": "2023-06-28T13:10:17.134840Z"
    },
    "papermill": {
     "duration": 0.016048,
     "end_time": "2023-06-28T13:10:17.138096",
     "exception": false,
     "start_time": "2023-06-28T13:10:17.122048",
     "status": "completed"
    },
    "tags": []
   },
   "outputs": [],
   "source": [
    "#q7.hint()\n",
    "#q7.solution()"
   ]
  },
  {
   "cell_type": "markdown",
   "id": "235d3eac",
   "metadata": {
    "papermill": {
     "duration": 0.007542,
     "end_time": "2023-06-28T13:10:17.153331",
     "exception": false,
     "start_time": "2023-06-28T13:10:17.145789",
     "status": "completed"
    },
    "tags": []
   },
   "source": [
    "# Keep going\n",
    "Continue to **[grouping and sorting](https://www.kaggle.com/residentmario/grouping-and-sorting)**."
   ]
  },
  {
   "cell_type": "markdown",
   "id": "14888866",
   "metadata": {
    "papermill": {
     "duration": 0.007365,
     "end_time": "2023-06-28T13:10:17.168348",
     "exception": false,
     "start_time": "2023-06-28T13:10:17.160983",
     "status": "completed"
    },
    "tags": []
   },
   "source": [
    "---\n",
    "\n",
    "\n",
    "\n",
    "\n",
    "*Have questions or comments? Visit the [course discussion forum](https://www.kaggle.com/learn/pandas/discussion) to chat with other learners.*"
   ]
  }
 ],
 "metadata": {
  "kernelspec": {
   "display_name": "Python 3",
   "language": "python",
   "name": "python3"
  },
  "language_info": {
   "codemirror_mode": {
    "name": "ipython",
    "version": 3
   },
   "file_extension": ".py",
   "mimetype": "text/x-python",
   "name": "python",
   "nbconvert_exporter": "python",
   "pygments_lexer": "ipython3",
   "version": "3.10.10"
  },
  "papermill": {
   "default_parameters": {},
   "duration": 94.754575,
   "end_time": "2023-06-28T13:10:18.097807",
   "environment_variables": {},
   "exception": null,
   "input_path": "__notebook__.ipynb",
   "output_path": "__notebook__.ipynb",
   "parameters": {},
   "start_time": "2023-06-28T13:08:43.343232",
   "version": "2.4.0"
  }
 },
 "nbformat": 4,
 "nbformat_minor": 5
}
