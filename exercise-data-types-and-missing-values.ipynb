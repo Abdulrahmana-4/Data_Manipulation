{
 "cells": [
  {
   "cell_type": "markdown",
   "id": "9c9c3e43",
   "metadata": {
    "papermill": {
     "duration": 0.005972,
     "end_time": "2023-06-29T11:08:20.720465",
     "exception": false,
     "start_time": "2023-06-29T11:08:20.714493",
     "status": "completed"
    },
    "tags": []
   },
   "source": [
    "**This notebook is an exercise in the [Pandas](https://www.kaggle.com/learn/pandas) course.  You can reference the tutorial at [this link](https://www.kaggle.com/residentmario/data-types-and-missing-values).**\n",
    "\n",
    "---\n"
   ]
  },
  {
   "cell_type": "markdown",
   "id": "575118aa",
   "metadata": {
    "papermill": {
     "duration": 0.004995,
     "end_time": "2023-06-29T11:08:20.731047",
     "exception": false,
     "start_time": "2023-06-29T11:08:20.726052",
     "status": "completed"
    },
    "tags": []
   },
   "source": [
    "# Introduction\n",
    "\n",
    "Run the following cell to load your data and some utility functions."
   ]
  },
  {
   "cell_type": "code",
   "execution_count": 1,
   "id": "641f739c",
   "metadata": {
    "execution": {
     "iopub.execute_input": "2023-06-29T11:08:20.743918Z",
     "iopub.status.busy": "2023-06-29T11:08:20.743383Z",
     "iopub.status.idle": "2023-06-29T11:08:24.142179Z",
     "shell.execute_reply": "2023-06-29T11:08:24.140715Z"
    },
    "papermill": {
     "duration": 3.409177,
     "end_time": "2023-06-29T11:08:24.145509",
     "exception": false,
     "start_time": "2023-06-29T11:08:20.736332",
     "status": "completed"
    },
    "tags": []
   },
   "outputs": [
    {
     "name": "stdout",
     "output_type": "stream",
     "text": [
      "Setup complete.\n"
     ]
    }
   ],
   "source": [
    "import pandas as pd\n",
    "\n",
    "reviews = pd.read_csv(\"../input/wine-reviews/winemag-data-130k-v2.csv\", index_col=0)\n",
    "\n",
    "from learntools.core import binder; binder.bind(globals())\n",
    "from learntools.pandas.data_types_and_missing_data import *\n",
    "print(\"Setup complete.\")"
   ]
  },
  {
   "cell_type": "markdown",
   "id": "ec38c7bb",
   "metadata": {
    "papermill": {
     "duration": 0.005587,
     "end_time": "2023-06-29T11:08:24.157035",
     "exception": false,
     "start_time": "2023-06-29T11:08:24.151448",
     "status": "completed"
    },
    "tags": []
   },
   "source": [
    "# Exercises"
   ]
  },
  {
   "cell_type": "markdown",
   "id": "f7ff6dd0",
   "metadata": {
    "papermill": {
     "duration": 0.005861,
     "end_time": "2023-06-29T11:08:24.168992",
     "exception": false,
     "start_time": "2023-06-29T11:08:24.163131",
     "status": "completed"
    },
    "tags": []
   },
   "source": [
    "## 1. \n",
    "What is the data type of the `points` column in the dataset?"
   ]
  },
  {
   "cell_type": "code",
   "execution_count": 2,
   "id": "eabf674b",
   "metadata": {
    "execution": {
     "iopub.execute_input": "2023-06-29T11:08:24.182889Z",
     "iopub.status.busy": "2023-06-29T11:08:24.182480Z",
     "iopub.status.idle": "2023-06-29T11:08:24.193921Z",
     "shell.execute_reply": "2023-06-29T11:08:24.192764Z"
    },
    "papermill": {
     "duration": 0.021767,
     "end_time": "2023-06-29T11:08:24.196769",
     "exception": false,
     "start_time": "2023-06-29T11:08:24.175002",
     "status": "completed"
    },
    "tags": []
   },
   "outputs": [
    {
     "data": {
      "application/javascript": [
       "parent.postMessage({\"jupyterEvent\": \"custom.exercise_interaction\", \"data\": {\"outcomeType\": 1, \"valueTowardsCompletion\": 0.25, \"interactionType\": 1, \"questionType\": 1, \"questionId\": \"1_PointsDtype\", \"learnToolsVersion\": \"0.3.4\", \"failureMessage\": \"\", \"exceptionClass\": \"\", \"trace\": \"\"}}, \"*\")"
      ],
      "text/plain": [
       "<IPython.core.display.Javascript object>"
      ]
     },
     "metadata": {},
     "output_type": "display_data"
    },
    {
     "data": {
      "text/markdown": [
       "<span style=\"color:#33cc33\">Correct</span>"
      ],
      "text/plain": [
       "Correct"
      ]
     },
     "metadata": {},
     "output_type": "display_data"
    }
   ],
   "source": [
    "# Your code here\n",
    "dtype = reviews.points.dtype\n",
    "\n",
    "# Check your answer\n",
    "q1.check()"
   ]
  },
  {
   "cell_type": "code",
   "execution_count": 3,
   "id": "36639c8c",
   "metadata": {
    "execution": {
     "iopub.execute_input": "2023-06-29T11:08:24.213952Z",
     "iopub.status.busy": "2023-06-29T11:08:24.213009Z",
     "iopub.status.idle": "2023-06-29T11:08:24.218452Z",
     "shell.execute_reply": "2023-06-29T11:08:24.217147Z"
    },
    "papermill": {
     "duration": 0.015637,
     "end_time": "2023-06-29T11:08:24.220939",
     "exception": false,
     "start_time": "2023-06-29T11:08:24.205302",
     "status": "completed"
    },
    "tags": []
   },
   "outputs": [],
   "source": [
    "#q1.hint()\n",
    "#q1.solution()"
   ]
  },
  {
   "cell_type": "markdown",
   "id": "12051d14",
   "metadata": {
    "papermill": {
     "duration": 0.006007,
     "end_time": "2023-06-29T11:08:24.233328",
     "exception": false,
     "start_time": "2023-06-29T11:08:24.227321",
     "status": "completed"
    },
    "tags": []
   },
   "source": [
    "## 2. \n",
    "Create a Series from entries in the `points` column, but convert the entries to strings. Hint: strings are `str` in native Python."
   ]
  },
  {
   "cell_type": "code",
   "execution_count": 4,
   "id": "8c0d45f3",
   "metadata": {
    "execution": {
     "iopub.execute_input": "2023-06-29T11:08:24.248077Z",
     "iopub.status.busy": "2023-06-29T11:08:24.247670Z",
     "iopub.status.idle": "2023-06-29T11:08:24.350277Z",
     "shell.execute_reply": "2023-06-29T11:08:24.348979Z"
    },
    "papermill": {
     "duration": 0.113213,
     "end_time": "2023-06-29T11:08:24.352985",
     "exception": false,
     "start_time": "2023-06-29T11:08:24.239772",
     "status": "completed"
    },
    "tags": []
   },
   "outputs": [
    {
     "data": {
      "application/javascript": [
       "parent.postMessage({\"jupyterEvent\": \"custom.exercise_interaction\", \"data\": {\"outcomeType\": 1, \"valueTowardsCompletion\": 0.25, \"interactionType\": 1, \"questionType\": 1, \"questionId\": \"2_StrPoints\", \"learnToolsVersion\": \"0.3.4\", \"failureMessage\": \"\", \"exceptionClass\": \"\", \"trace\": \"\"}}, \"*\")"
      ],
      "text/plain": [
       "<IPython.core.display.Javascript object>"
      ]
     },
     "metadata": {},
     "output_type": "display_data"
    },
    {
     "data": {
      "text/markdown": [
       "<span style=\"color:#33cc33\">Correct</span>"
      ],
      "text/plain": [
       "Correct"
      ]
     },
     "metadata": {},
     "output_type": "display_data"
    }
   ],
   "source": [
    "point_strings = reviews.points.astype('str')\n",
    "\n",
    "# Check your answer\n",
    "q2.check()"
   ]
  },
  {
   "cell_type": "code",
   "execution_count": 5,
   "id": "11289390",
   "metadata": {
    "execution": {
     "iopub.execute_input": "2023-06-29T11:08:24.368638Z",
     "iopub.status.busy": "2023-06-29T11:08:24.368169Z",
     "iopub.status.idle": "2023-06-29T11:08:24.373378Z",
     "shell.execute_reply": "2023-06-29T11:08:24.371900Z"
    },
    "papermill": {
     "duration": 0.016221,
     "end_time": "2023-06-29T11:08:24.376140",
     "exception": false,
     "start_time": "2023-06-29T11:08:24.359919",
     "status": "completed"
    },
    "tags": []
   },
   "outputs": [],
   "source": [
    "#q2.hint()\n",
    "#q2.solution()"
   ]
  },
  {
   "cell_type": "markdown",
   "id": "97592b78",
   "metadata": {
    "papermill": {
     "duration": 0.006461,
     "end_time": "2023-06-29T11:08:24.389462",
     "exception": false,
     "start_time": "2023-06-29T11:08:24.383001",
     "status": "completed"
    },
    "tags": []
   },
   "source": [
    "## 3.\n",
    "Sometimes the price column is null. How many reviews in the dataset are missing a price?"
   ]
  },
  {
   "cell_type": "code",
   "execution_count": 6,
   "id": "c011691d",
   "metadata": {
    "execution": {
     "iopub.execute_input": "2023-06-29T11:08:24.404786Z",
     "iopub.status.busy": "2023-06-29T11:08:24.404386Z",
     "iopub.status.idle": "2023-06-29T11:08:24.416384Z",
     "shell.execute_reply": "2023-06-29T11:08:24.414892Z"
    },
    "papermill": {
     "duration": 0.023423,
     "end_time": "2023-06-29T11:08:24.419597",
     "exception": false,
     "start_time": "2023-06-29T11:08:24.396174",
     "status": "completed"
    },
    "tags": []
   },
   "outputs": [
    {
     "data": {
      "application/javascript": [
       "parent.postMessage({\"jupyterEvent\": \"custom.exercise_interaction\", \"data\": {\"outcomeType\": 1, \"valueTowardsCompletion\": 0.25, \"interactionType\": 1, \"questionType\": 1, \"questionId\": \"3_CountMissingPrices\", \"learnToolsVersion\": \"0.3.4\", \"failureMessage\": \"\", \"exceptionClass\": \"\", \"trace\": \"\"}}, \"*\")"
      ],
      "text/plain": [
       "<IPython.core.display.Javascript object>"
      ]
     },
     "metadata": {},
     "output_type": "display_data"
    },
    {
     "data": {
      "text/markdown": [
       "<span style=\"color:#33cc33\">Correct</span>"
      ],
      "text/plain": [
       "Correct"
      ]
     },
     "metadata": {},
     "output_type": "display_data"
    }
   ],
   "source": [
    "n_missing_prices = reviews.price.isnull().sum()\n",
    "\n",
    "# Check your answer\n",
    "q3.check()"
   ]
  },
  {
   "cell_type": "code",
   "execution_count": 7,
   "id": "9340e1c8",
   "metadata": {
    "execution": {
     "iopub.execute_input": "2023-06-29T11:08:24.436896Z",
     "iopub.status.busy": "2023-06-29T11:08:24.435967Z",
     "iopub.status.idle": "2023-06-29T11:08:24.441406Z",
     "shell.execute_reply": "2023-06-29T11:08:24.440186Z"
    },
    "papermill": {
     "duration": 0.016914,
     "end_time": "2023-06-29T11:08:24.443964",
     "exception": false,
     "start_time": "2023-06-29T11:08:24.427050",
     "status": "completed"
    },
    "tags": []
   },
   "outputs": [],
   "source": [
    "#q3.hint()\n",
    "#q3.solution()"
   ]
  },
  {
   "cell_type": "markdown",
   "id": "3d6b2af7",
   "metadata": {
    "papermill": {
     "duration": 0.006805,
     "end_time": "2023-06-29T11:08:24.457841",
     "exception": false,
     "start_time": "2023-06-29T11:08:24.451036",
     "status": "completed"
    },
    "tags": []
   },
   "source": [
    "## 4.\n",
    "What are the most common wine-producing regions? Create a Series counting the number of times each value occurs in the `region_1` field. This field is often missing data, so replace missing values with `Unknown`. Sort in descending order.  Your output should look something like this:\n",
    "\n",
    "```\n",
    "Unknown                    21247\n",
    "Napa Valley                 4480\n",
    "                           ...  \n",
    "Bardolino Superiore            1\n",
    "Primitivo del Tarantino        1\n",
    "Name: region_1, Length: 1230, dtype: int64\n",
    "```"
   ]
  },
  {
   "cell_type": "code",
   "execution_count": 8,
   "id": "bb6e984b",
   "metadata": {
    "execution": {
     "iopub.execute_input": "2023-06-29T11:08:24.474166Z",
     "iopub.status.busy": "2023-06-29T11:08:24.473750Z",
     "iopub.status.idle": "2023-06-29T11:08:24.980346Z",
     "shell.execute_reply": "2023-06-29T11:08:24.979127Z"
    },
    "papermill": {
     "duration": 0.520586,
     "end_time": "2023-06-29T11:08:24.985658",
     "exception": false,
     "start_time": "2023-06-29T11:08:24.465072",
     "status": "completed"
    },
    "tags": []
   },
   "outputs": [
    {
     "data": {
      "application/javascript": [
       "parent.postMessage({\"jupyterEvent\": \"custom.exercise_interaction\", \"data\": {\"outcomeType\": 4, \"interactionType\": 1, \"questionType\": 2, \"questionId\": \"4_ReviewsPerRegion\", \"learnToolsVersion\": \"0.3.4\", \"valueTowardsCompletion\": 0.0, \"failureMessage\": \"\", \"exceptionClass\": \"\", \"trace\": \"\"}}, \"*\")"
      ],
      "text/plain": [
       "<IPython.core.display.Javascript object>"
      ]
     },
     "metadata": {},
     "output_type": "display_data"
    },
    {
     "data": {
      "text/markdown": [
       "<span style=\"color:#ccaa33\">Check:</span> When you've updated the starter code, `check()` will tell you whether your code is correct. Remember, you must create the following variable: `reviews_per_region`"
      ],
      "text/plain": [
       "Check: When you've updated the starter code, `check()` will tell you whether your code is correct. Remember, you must create the following variable: `reviews_per_region`"
      ]
     },
     "metadata": {},
     "output_type": "display_data"
    }
   ],
   "source": [
    "reviews = reviews.fillna(\"Unknown\")\n",
    "reviews.groupby('region_1').region_1.size().sort_values(ascending=False)\n",
    "# Check your answer\n",
    "q4.check()"
   ]
  },
  {
   "cell_type": "code",
   "execution_count": 9,
   "id": "29248b14",
   "metadata": {
    "execution": {
     "iopub.execute_input": "2023-06-29T11:08:25.003778Z",
     "iopub.status.busy": "2023-06-29T11:08:25.003311Z",
     "iopub.status.idle": "2023-06-29T11:08:25.008675Z",
     "shell.execute_reply": "2023-06-29T11:08:25.007195Z"
    },
    "papermill": {
     "duration": 0.018835,
     "end_time": "2023-06-29T11:08:25.011879",
     "exception": false,
     "start_time": "2023-06-29T11:08:24.993044",
     "status": "completed"
    },
    "tags": []
   },
   "outputs": [],
   "source": [
    "#q4.hint()\n",
    "#q4.solution()"
   ]
  },
  {
   "cell_type": "markdown",
   "id": "f64442c0",
   "metadata": {
    "papermill": {
     "duration": 0.007042,
     "end_time": "2023-06-29T11:08:25.026122",
     "exception": false,
     "start_time": "2023-06-29T11:08:25.019080",
     "status": "completed"
    },
    "tags": []
   },
   "source": [
    "# Keep going\n",
    "\n",
    "Move on to **[renaming and combining](https://www.kaggle.com/residentmario/renaming-and-combining)**."
   ]
  },
  {
   "cell_type": "markdown",
   "id": "f091f0bc",
   "metadata": {
    "papermill": {
     "duration": 0.006896,
     "end_time": "2023-06-29T11:08:25.040477",
     "exception": false,
     "start_time": "2023-06-29T11:08:25.033581",
     "status": "completed"
    },
    "tags": []
   },
   "source": [
    "---\n",
    "\n",
    "\n",
    "\n",
    "\n",
    "*Have questions or comments? Visit the [course discussion forum](https://www.kaggle.com/learn/pandas/discussion) to chat with other learners.*"
   ]
  }
 ],
 "metadata": {
  "kernelspec": {
   "display_name": "Python 3",
   "language": "python",
   "name": "python3"
  },
  "language_info": {
   "codemirror_mode": {
    "name": "ipython",
    "version": 3
   },
   "file_extension": ".py",
   "mimetype": "text/x-python",
   "name": "python",
   "nbconvert_exporter": "python",
   "pygments_lexer": "ipython3",
   "version": "3.10.10"
  },
  "papermill": {
   "default_parameters": {},
   "duration": 19.649444,
   "end_time": "2023-06-29T11:08:26.273433",
   "environment_variables": {},
   "exception": null,
   "input_path": "__notebook__.ipynb",
   "output_path": "__notebook__.ipynb",
   "parameters": {},
   "start_time": "2023-06-29T11:08:06.623989",
   "version": "2.4.0"
  }
 },
 "nbformat": 4,
 "nbformat_minor": 5
}
