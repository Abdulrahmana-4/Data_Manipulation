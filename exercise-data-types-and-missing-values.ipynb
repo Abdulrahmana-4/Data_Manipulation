{
 "cells": [
  {
   "cell_type": "markdown",
   "id": "5d77cf2e",
   "metadata": {
    "papermill": {
     "duration": 0.005682,
     "end_time": "2023-06-29T11:00:57.869560",
     "exception": false,
     "start_time": "2023-06-29T11:00:57.863878",
     "status": "completed"
    },
    "tags": []
   },
   "source": [
    "**This notebook is an exercise in the [Pandas](https://www.kaggle.com/learn/pandas) course.  You can reference the tutorial at [this link](https://www.kaggle.com/residentmario/data-types-and-missing-values).**\n",
    "\n",
    "---\n"
   ]
  },
  {
   "cell_type": "markdown",
   "id": "0faba1c2",
   "metadata": {
    "papermill": {
     "duration": 0.004583,
     "end_time": "2023-06-29T11:00:57.879427",
     "exception": false,
     "start_time": "2023-06-29T11:00:57.874844",
     "status": "completed"
    },
    "tags": []
   },
   "source": [
    "# Introduction\n",
    "\n",
    "Run the following cell to load your data and some utility functions."
   ]
  },
  {
   "cell_type": "code",
   "execution_count": 1,
   "id": "dc1ad3fa",
   "metadata": {
    "execution": {
     "iopub.execute_input": "2023-06-29T11:00:57.891086Z",
     "iopub.status.busy": "2023-06-29T11:00:57.890432Z",
     "iopub.status.idle": "2023-06-29T11:01:00.898083Z",
     "shell.execute_reply": "2023-06-29T11:01:00.896840Z"
    },
    "papermill": {
     "duration": 3.016518,
     "end_time": "2023-06-29T11:01:00.900541",
     "exception": false,
     "start_time": "2023-06-29T11:00:57.884023",
     "status": "completed"
    },
    "tags": []
   },
   "outputs": [
    {
     "name": "stdout",
     "output_type": "stream",
     "text": [
      "Setup complete.\n"
     ]
    }
   ],
   "source": [
    "import pandas as pd\n",
    "\n",
    "reviews = pd.read_csv(\"../input/wine-reviews/winemag-data-130k-v2.csv\", index_col=0)\n",
    "\n",
    "from learntools.core import binder; binder.bind(globals())\n",
    "from learntools.pandas.data_types_and_missing_data import *\n",
    "print(\"Setup complete.\")"
   ]
  },
  {
   "cell_type": "markdown",
   "id": "e70ba076",
   "metadata": {
    "papermill": {
     "duration": 0.004938,
     "end_time": "2023-06-29T11:01:00.910638",
     "exception": false,
     "start_time": "2023-06-29T11:01:00.905700",
     "status": "completed"
    },
    "tags": []
   },
   "source": [
    "# Exercises"
   ]
  },
  {
   "cell_type": "markdown",
   "id": "acf5026e",
   "metadata": {
    "papermill": {
     "duration": 0.004779,
     "end_time": "2023-06-29T11:01:00.920690",
     "exception": false,
     "start_time": "2023-06-29T11:01:00.915911",
     "status": "completed"
    },
    "tags": []
   },
   "source": [
    "## 1. \n",
    "What is the data type of the `points` column in the dataset?"
   ]
  },
  {
   "cell_type": "code",
   "execution_count": 2,
   "id": "95dedcea",
   "metadata": {
    "execution": {
     "iopub.execute_input": "2023-06-29T11:01:00.932415Z",
     "iopub.status.busy": "2023-06-29T11:01:00.931999Z",
     "iopub.status.idle": "2023-06-29T11:01:00.943332Z",
     "shell.execute_reply": "2023-06-29T11:01:00.942191Z"
    },
    "papermill": {
     "duration": 0.019971,
     "end_time": "2023-06-29T11:01:00.945648",
     "exception": false,
     "start_time": "2023-06-29T11:01:00.925677",
     "status": "completed"
    },
    "tags": []
   },
   "outputs": [
    {
     "data": {
      "application/javascript": [
       "parent.postMessage({\"jupyterEvent\": \"custom.exercise_interaction\", \"data\": {\"outcomeType\": 1, \"valueTowardsCompletion\": 0.25, \"interactionType\": 1, \"questionType\": 1, \"questionId\": \"1_PointsDtype\", \"learnToolsVersion\": \"0.3.4\", \"failureMessage\": \"\", \"exceptionClass\": \"\", \"trace\": \"\"}}, \"*\")"
      ],
      "text/plain": [
       "<IPython.core.display.Javascript object>"
      ]
     },
     "metadata": {},
     "output_type": "display_data"
    },
    {
     "data": {
      "text/markdown": [
       "<span style=\"color:#33cc33\">Correct</span>"
      ],
      "text/plain": [
       "Correct"
      ]
     },
     "metadata": {},
     "output_type": "display_data"
    }
   ],
   "source": [
    "# Your code here\n",
    "dtype = reviews.points.dtype\n",
    "\n",
    "# Check your answer\n",
    "q1.check()"
   ]
  },
  {
   "cell_type": "code",
   "execution_count": 3,
   "id": "3747ee1b",
   "metadata": {
    "execution": {
     "iopub.execute_input": "2023-06-29T11:01:00.959956Z",
     "iopub.status.busy": "2023-06-29T11:01:00.959580Z",
     "iopub.status.idle": "2023-06-29T11:01:00.963741Z",
     "shell.execute_reply": "2023-06-29T11:01:00.962743Z"
    },
    "papermill": {
     "duration": 0.013058,
     "end_time": "2023-06-29T11:01:00.965865",
     "exception": false,
     "start_time": "2023-06-29T11:01:00.952807",
     "status": "completed"
    },
    "tags": []
   },
   "outputs": [],
   "source": [
    "#q1.hint()\n",
    "#q1.solution()"
   ]
  },
  {
   "cell_type": "markdown",
   "id": "3f25efbf",
   "metadata": {
    "papermill": {
     "duration": 0.005166,
     "end_time": "2023-06-29T11:01:00.976568",
     "exception": false,
     "start_time": "2023-06-29T11:01:00.971402",
     "status": "completed"
    },
    "tags": []
   },
   "source": [
    "## 2. \n",
    "Create a Series from entries in the `points` column, but convert the entries to strings. Hint: strings are `str` in native Python."
   ]
  },
  {
   "cell_type": "code",
   "execution_count": 4,
   "id": "b05cdbd8",
   "metadata": {
    "execution": {
     "iopub.execute_input": "2023-06-29T11:01:00.989102Z",
     "iopub.status.busy": "2023-06-29T11:01:00.988566Z",
     "iopub.status.idle": "2023-06-29T11:01:01.087383Z",
     "shell.execute_reply": "2023-06-29T11:01:01.086327Z"
    },
    "papermill": {
     "duration": 0.10815,
     "end_time": "2023-06-29T11:01:01.090110",
     "exception": false,
     "start_time": "2023-06-29T11:01:00.981960",
     "status": "completed"
    },
    "tags": []
   },
   "outputs": [
    {
     "data": {
      "application/javascript": [
       "parent.postMessage({\"jupyterEvent\": \"custom.exercise_interaction\", \"data\": {\"outcomeType\": 1, \"valueTowardsCompletion\": 0.25, \"interactionType\": 1, \"questionType\": 1, \"questionId\": \"2_StrPoints\", \"learnToolsVersion\": \"0.3.4\", \"failureMessage\": \"\", \"exceptionClass\": \"\", \"trace\": \"\"}}, \"*\")"
      ],
      "text/plain": [
       "<IPython.core.display.Javascript object>"
      ]
     },
     "metadata": {},
     "output_type": "display_data"
    },
    {
     "data": {
      "text/markdown": [
       "<span style=\"color:#33cc33\">Correct</span>"
      ],
      "text/plain": [
       "Correct"
      ]
     },
     "metadata": {},
     "output_type": "display_data"
    }
   ],
   "source": [
    "point_strings = reviews.points.astype('str')\n",
    "\n",
    "# Check your answer\n",
    "q2.check()"
   ]
  },
  {
   "cell_type": "code",
   "execution_count": 5,
   "id": "76825d98",
   "metadata": {
    "execution": {
     "iopub.execute_input": "2023-06-29T11:01:01.103719Z",
     "iopub.status.busy": "2023-06-29T11:01:01.103374Z",
     "iopub.status.idle": "2023-06-29T11:01:01.107183Z",
     "shell.execute_reply": "2023-06-29T11:01:01.106451Z"
    },
    "papermill": {
     "duration": 0.01291,
     "end_time": "2023-06-29T11:01:01.109085",
     "exception": false,
     "start_time": "2023-06-29T11:01:01.096175",
     "status": "completed"
    },
    "tags": []
   },
   "outputs": [],
   "source": [
    "#q2.hint()\n",
    "#q2.solution()"
   ]
  },
  {
   "cell_type": "markdown",
   "id": "346b302e",
   "metadata": {
    "papermill": {
     "duration": 0.006156,
     "end_time": "2023-06-29T11:01:01.121532",
     "exception": false,
     "start_time": "2023-06-29T11:01:01.115376",
     "status": "completed"
    },
    "tags": []
   },
   "source": [
    "## 3.\n",
    "Sometimes the price column is null. How many reviews in the dataset are missing a price?"
   ]
  },
  {
   "cell_type": "code",
   "execution_count": 6,
   "id": "7112333a",
   "metadata": {
    "execution": {
     "iopub.execute_input": "2023-06-29T11:01:01.135583Z",
     "iopub.status.busy": "2023-06-29T11:01:01.135217Z",
     "iopub.status.idle": "2023-06-29T11:01:01.144249Z",
     "shell.execute_reply": "2023-06-29T11:01:01.143506Z"
    },
    "papermill": {
     "duration": 0.018705,
     "end_time": "2023-06-29T11:01:01.146423",
     "exception": false,
     "start_time": "2023-06-29T11:01:01.127718",
     "status": "completed"
    },
    "tags": []
   },
   "outputs": [
    {
     "data": {
      "application/javascript": [
       "parent.postMessage({\"jupyterEvent\": \"custom.exercise_interaction\", \"data\": {\"outcomeType\": 1, \"valueTowardsCompletion\": 0.25, \"interactionType\": 1, \"questionType\": 1, \"questionId\": \"3_CountMissingPrices\", \"learnToolsVersion\": \"0.3.4\", \"failureMessage\": \"\", \"exceptionClass\": \"\", \"trace\": \"\"}}, \"*\")"
      ],
      "text/plain": [
       "<IPython.core.display.Javascript object>"
      ]
     },
     "metadata": {},
     "output_type": "display_data"
    },
    {
     "data": {
      "text/markdown": [
       "<span style=\"color:#33cc33\">Correct</span>"
      ],
      "text/plain": [
       "Correct"
      ]
     },
     "metadata": {},
     "output_type": "display_data"
    }
   ],
   "source": [
    "n_missing_prices = reviews.price.isnull().sum()\n",
    "\n",
    "# Check your answer\n",
    "q3.check()"
   ]
  },
  {
   "cell_type": "code",
   "execution_count": 7,
   "id": "2f144e4c",
   "metadata": {
    "execution": {
     "iopub.execute_input": "2023-06-29T11:01:01.160881Z",
     "iopub.status.busy": "2023-06-29T11:01:01.160536Z",
     "iopub.status.idle": "2023-06-29T11:01:01.164661Z",
     "shell.execute_reply": "2023-06-29T11:01:01.163657Z"
    },
    "papermill": {
     "duration": 0.013554,
     "end_time": "2023-06-29T11:01:01.166787",
     "exception": false,
     "start_time": "2023-06-29T11:01:01.153233",
     "status": "completed"
    },
    "tags": []
   },
   "outputs": [],
   "source": [
    "#q3.hint()\n",
    "#q3.solution()"
   ]
  },
  {
   "cell_type": "markdown",
   "id": "5a6ca0cf",
   "metadata": {
    "papermill": {
     "duration": 0.005926,
     "end_time": "2023-06-29T11:01:01.179067",
     "exception": false,
     "start_time": "2023-06-29T11:01:01.173141",
     "status": "completed"
    },
    "tags": []
   },
   "source": [
    "## 4.\n",
    "What are the most common wine-producing regions? Create a Series counting the number of times each value occurs in the `region_1` field. This field is often missing data, so replace missing values with `Unknown`. Sort in descending order.  Your output should look something like this:\n",
    "\n",
    "```\n",
    "Unknown                    21247\n",
    "Napa Valley                 4480\n",
    "                           ...  \n",
    "Bardolino Superiore            1\n",
    "Primitivo del Tarantino        1\n",
    "Name: region_1, Length: 1230, dtype: int64\n",
    "```"
   ]
  },
  {
   "cell_type": "code",
   "execution_count": 8,
   "id": "cdb376ce",
   "metadata": {
    "execution": {
     "iopub.execute_input": "2023-06-29T11:01:01.193288Z",
     "iopub.status.busy": "2023-06-29T11:01:01.192613Z",
     "iopub.status.idle": "2023-06-29T11:01:01.271317Z",
     "shell.execute_reply": "2023-06-29T11:01:01.270298Z"
    },
    "papermill": {
     "duration": 0.088219,
     "end_time": "2023-06-29T11:01:01.273607",
     "exception": false,
     "start_time": "2023-06-29T11:01:01.185388",
     "status": "completed"
    },
    "tags": []
   },
   "outputs": [
    {
     "data": {
      "application/javascript": [
       "parent.postMessage({\"jupyterEvent\": \"custom.exercise_interaction\", \"data\": {\"outcomeType\": 1, \"valueTowardsCompletion\": 0.25, \"interactionType\": 1, \"questionType\": 2, \"questionId\": \"4_ReviewsPerRegion\", \"learnToolsVersion\": \"0.3.4\", \"failureMessage\": \"\", \"exceptionClass\": \"\", \"trace\": \"\"}}, \"*\")"
      ],
      "text/plain": [
       "<IPython.core.display.Javascript object>"
      ]
     },
     "metadata": {},
     "output_type": "display_data"
    },
    {
     "data": {
      "text/markdown": [
       "<span style=\"color:#33cc33\">Correct</span>"
      ],
      "text/plain": [
       "Correct"
      ]
     },
     "metadata": {},
     "output_type": "display_data"
    }
   ],
   "source": [
    "reviews_per_region = reviews.region_1.fillna('Unknown').value_counts().sort_values(ascending=False)\n",
    "\n",
    "# Check your answer\n",
    "q4.check()"
   ]
  },
  {
   "cell_type": "code",
   "execution_count": 9,
   "id": "1667fdd5",
   "metadata": {
    "execution": {
     "iopub.execute_input": "2023-06-29T11:01:01.288454Z",
     "iopub.status.busy": "2023-06-29T11:01:01.288056Z",
     "iopub.status.idle": "2023-06-29T11:01:01.292202Z",
     "shell.execute_reply": "2023-06-29T11:01:01.291288Z"
    },
    "papermill": {
     "duration": 0.01385,
     "end_time": "2023-06-29T11:01:01.294217",
     "exception": false,
     "start_time": "2023-06-29T11:01:01.280367",
     "status": "completed"
    },
    "tags": []
   },
   "outputs": [],
   "source": [
    "#q4.hint()\n",
    "#q4.solution()"
   ]
  },
  {
   "cell_type": "markdown",
   "id": "7192edc7",
   "metadata": {
    "papermill": {
     "duration": 0.006234,
     "end_time": "2023-06-29T11:01:01.306963",
     "exception": false,
     "start_time": "2023-06-29T11:01:01.300729",
     "status": "completed"
    },
    "tags": []
   },
   "source": [
    "# Keep going\n",
    "\n",
    "Move on to **[renaming and combining](https://www.kaggle.com/residentmario/renaming-and-combining)**."
   ]
  },
  {
   "cell_type": "markdown",
   "id": "a2d5c61f",
   "metadata": {
    "papermill": {
     "duration": 0.006447,
     "end_time": "2023-06-29T11:01:01.319976",
     "exception": false,
     "start_time": "2023-06-29T11:01:01.313529",
     "status": "completed"
    },
    "tags": []
   },
   "source": [
    "---\n",
    "\n",
    "\n",
    "\n",
    "\n",
    "*Have questions or comments? Visit the [course discussion forum](https://www.kaggle.com/learn/pandas/discussion) to chat with other learners.*"
   ]
  }
 ],
 "metadata": {
  "kernelspec": {
   "display_name": "Python 3",
   "language": "python",
   "name": "python3"
  },
  "language_info": {
   "codemirror_mode": {
    "name": "ipython",
    "version": 3
   },
   "file_extension": ".py",
   "mimetype": "text/x-python",
   "name": "python",
   "nbconvert_exporter": "python",
   "pygments_lexer": "ipython3",
   "version": "3.10.10"
  },
  "papermill": {
   "default_parameters": {},
   "duration": 15.531529,
   "end_time": "2023-06-29T11:01:02.146916",
   "environment_variables": {},
   "exception": null,
   "input_path": "__notebook__.ipynb",
   "output_path": "__notebook__.ipynb",
   "parameters": {},
   "start_time": "2023-06-29T11:00:46.615387",
   "version": "2.4.0"
  }
 },
 "nbformat": 4,
 "nbformat_minor": 5
}
